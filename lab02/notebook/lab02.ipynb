{
  "nbformat": 4,
  "nbformat_minor": 0,
  "metadata": {
    "colab": {
      "name": "lab02.ipynb",
      "provenance": [],
      "collapsed_sections": []
    },
    "kernelspec": {
      "name": "python3",
      "display_name": "Python 3"
    }
  },
  "cells": [
    {
      "cell_type": "markdown",
      "metadata": {
        "id": "-FP5t2gvRe_m"
      },
      "source": [
        "#**Lab02**\n",
        "\n",
        "## **Tarefa 1**\n",
        "\n",
        "### **Carregue o nó de Günter Grass em Python e mostre o conteúdo JSON**"
      ]
    },
    {
      "cell_type": "code",
      "metadata": {
        "id": "rx-kAtuqRV3Z"
      },
      "source": [
        "import io\n",
        "import requests \n",
        "import json\n",
        "\n",
        "url_drum = \"http://dbpedia.org/data/The_Tin_Drum.jsod\"\n",
        "js_drum = requests.get(url_drum)\n",
        "json_drum = js_drum.json()\n",
        "url_grass = json_drum[\"d\"][\"results\"][0][\"http://dbpedia.org/ontology/author\"][\"__deferred\"][\"uri\"]\n",
        "\n",
        "js_grass = requests.get(url_grass)\n",
        "\n",
        "grass_content = js_grass.content.decode(\"utf-8\")\n",
        "print(json.dumps(grass_content, indent=4))"
      ],
      "execution_count": null,
      "outputs": []
    },
    {
      "cell_type": "markdown",
      "metadata": {
        "id": "FX6va3jxTAhU"
      },
      "source": [
        "## **Tarefa 2**\n",
        "\n",
        "### **Quais os livros escritos por Günter Grass?**\n",
        "\n"
      ]
    },
    {
      "cell_type": "code",
      "metadata": {
        "id": "qwgT-GQhTOW4",
        "outputId": "7ef22819-3dbe-4295-8bf1-c0bf5af95f05",
        "colab": {
          "base_uri": "https://localhost:8080/",
          "height": 119
        }
      },
      "source": [
        "js_books = requests.get(\"http://dbpedia.org/data/Günter_Grass.json\")\n",
        "\n",
        "json = js_books.json()\n",
        "\n",
        "books = json[\"http://dbpedia.org/resource/G\\u00FCnter_Grass\"][\"http://dbpedia.org/ontology/notableWork\"]\n",
        "\n",
        "print(\"Os livros escritos por Günter Grass mais notáveis são:\")\n",
        "\n",
        "for book in books:\n",
        "  print(book[\"value\"])\n",
        "  \n",
        "\n"
      ],
      "execution_count": 33,
      "outputs": [
        {
          "output_type": "stream",
          "text": [
            "Os livros escritos por Günter Grass mais notáveis são:\n",
            "http://dbpedia.org/resource/The_Tin_Drum\n",
            "http://dbpedia.org/resource/Crabwalk\n",
            "http://dbpedia.org/resource/Dog_Years_(novel)\n",
            "http://dbpedia.org/resource/What_Must_Be_Said\n",
            "http://dbpedia.org/resource/Cat_and_Mouse_(novella)\n"
          ],
          "name": "stdout"
        }
      ]
    },
    {
      "cell_type": "markdown",
      "metadata": {
        "id": "sA-Kz3q6fVOP"
      },
      "source": [
        "## **Tarefa 3**\n",
        "\n",
        "### **Quais os termos usados para Aspirina (consulta JSON/MeSH em Python)?**\n",
        "\n",
        "# Quando fui fazer essa tarefa, 09/10 - 00h54 o site estava fora do ar. Vou na pasta images deixar uma imagem do programa do professor com a resposta e o print do site não abrindo"
      ]
    },
    {
      "cell_type": "code",
      "metadata": {
        "id": "AtiCR6IwfUpK"
      },
      "source": [
        ""
      ],
      "execution_count": null,
      "outputs": []
    }
  ]
}